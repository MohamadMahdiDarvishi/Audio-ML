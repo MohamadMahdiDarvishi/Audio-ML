{
  "nbformat": 4,
  "nbformat_minor": 0,
  "metadata": {
    "colab": {
      "provenance": [],
      "authorship_tag": "ABX9TyMrd4f//CPwrqgKHmWADP4A",
      "include_colab_link": true
    },
    "kernelspec": {
      "name": "python3",
      "display_name": "Python 3"
    },
    "language_info": {
      "name": "python"
    }
  },
  "cells": [
    {
      "cell_type": "markdown",
      "metadata": {
        "id": "view-in-github",
        "colab_type": "text"
      },
      "source": [
        "<a href=\"https://colab.research.google.com/github/MohamadMahdiDarvishi/Audio-ML/blob/main/Notebooks/Audio_ML_4.ipynb\" target=\"_parent\"><img src=\"https://colab.research.google.com/assets/colab-badge.svg\" alt=\"Open In Colab\"/></a>"
      ]
    },
    {
      "cell_type": "markdown",
      "source": [
        "# Music genre classification : implementing a Convoloutional Neural Network (CNN)\n",
        "\n",
        "**Introduction**\n",
        "\n",
        "Since the 1950s, AI researchers have sought to develop systems that can understand visual data. This effort gave birth to the field of Computer Vision. In 2012, a significant breakthrough occurred when researchers from the University of Toronto developed AlexNet, an AI model that significantly outperformed previous image recognition algorithms. AlexNet, created by Alex Krizhevsky, won the 2012 ImageNet contest with 85% accuracy, far surpassing the runner-up’s 74%. This success was driven by CNNs, a type of neural network that mimics human vision.\n",
        "\n",
        "📚 **Refrences**\n",
        "\n",
        "[This website  is great for learning how does kernels and max pooling and paddings works](https://www.analyticsvidhya.com/blog/2021/05/convolutional-neural-networks-cnn/)\n",
        "\n",
        "Actully, this website visionally describes all of functions that happens in convoloutional layers .\n",
        "\n"
      ],
      "metadata": {
        "id": "OOPjeOEfY7V7"
      }
    },
    {
      "cell_type": "markdown",
      "source": [
        "## 0 . Prerequirities"
      ],
      "metadata": {
        "id": "kIhpM_87ciDA"
      }
    },
    {
      "cell_type": "code",
      "source": [
        "# Imports\n",
        "import json\n",
        "import matplotlib.pyplot as plt\n",
        "from sklearn.model_selection import train_test_split\n",
        "import tensorflow as tf\n",
        "import numpy as np"
      ],
      "metadata": {
        "id": "Xm7KZudcch-d"
      },
      "execution_count": null,
      "outputs": []
    },
    {
      "cell_type": "code",
      "source": [
        "# Downloading json file to our local colab notebook\n",
        "from google.colab import drive\n",
        "drive.mount('/content/drive')\n",
        "%cp '/content/drive/My Drive/data_10.json' '/content/'"
      ],
      "metadata": {
        "colab": {
          "base_uri": "https://localhost:8080/"
        },
        "id": "UTzDkKHXch9z",
        "outputId": "27a96ed3-9ca7-42b4-80eb-7ae4a220636e"
      },
      "execution_count": null,
      "outputs": [
        {
          "output_type": "stream",
          "name": "stdout",
          "text": [
            "Mounted at /content/drive\n"
          ]
        }
      ]
    },
    {
      "cell_type": "code",
      "source": [
        "# path to json file that stores MFCCs and genre labels for each processed segment\n",
        "DATASET_PATH = \"/content/dataset/Data\"\n",
        "JSON_PATH = \"/content/data_10.json\""
      ],
      "metadata": {
        "id": "IoY3QXnzch46"
      },
      "execution_count": null,
      "outputs": []
    },
    {
      "cell_type": "markdown",
      "source": [
        "🔑 **Required functions for loading data and tracking model results**"
      ],
      "metadata": {
        "id": "j9wt5YjLe7XH"
      }
    },
    {
      "cell_type": "code",
      "source": [
        "def load_data(json_path = JSON_PATH) :\n",
        "  \"\"\"\n",
        "  Loading training data from json file\n",
        "\n",
        "  :param data_path (str) : Path to json file containing data\n",
        "  :return X (ndarray) : Inputs\n",
        "  :return y (ndarray) : Targets\n",
        "\n",
        "  \"\"\"\n",
        "  with open(json_path , \"r\") as fp :\n",
        "    data = json.load(fp)\n",
        "\n",
        "  X = np.array(data[\"mfcc\"])\n",
        "  y = np.array(data[\"lables\"])\n",
        "\n",
        "  # Data successfully loaded\n",
        "  return X , y\n",
        "\n",
        "def plot_history(history) :\n",
        "  \"\"\"\n",
        "  Plots accuracy/loss for training/validation set as a function of the epochs\n",
        "\n",
        "  :param\n",
        "  \"\"\"\n",
        "  # plotting Accuuracy for train and test\n",
        "  plt.subplot(2,2,1)\n",
        "  plt.plot(history.history[\"Accuracy\"] , label = \"train_acc\")\n",
        "  plt.plot(history.history[\"val_Accuracy\"] , label = \"test_acc\")\n",
        "  plt.legend()\n",
        "  plt.title(\"Accuracy\")\n",
        "\n",
        "  # plotting Accuracy for train and  test\n",
        "  plt.subplot(2,2,2)\n",
        "  plt.plot(history.history[\"loss\"] , label = \"train error\")\n",
        "  plt.plot(history.history[\"val_loss\"] , label = \"test error\")\n",
        "  plt.legend()\n",
        "  plt.title(\"Error\")"
      ],
      "metadata": {
        "id": "vwFL_IlGch4J"
      },
      "execution_count": null,
      "outputs": []
    },
    {
      "cell_type": "markdown",
      "source": [
        "⚡ **New function for preparing dataset**"
      ],
      "metadata": {
        "id": "jb10clyHchz_"
      }
    },
    {
      "cell_type": "code",
      "source": [
        "def prepare_dataset(test_size , validation_size) :\n",
        "\n",
        "  \"\"\"\n",
        "    Loads data and splits it into train, validation and test sets.\n",
        "\n",
        "    :param test_size (float) : Value in [0, 1] indicating percentage of data set to allocate to test split\n",
        "    :param validation_size (float) : Value in [0, 1] indicating percentage of train set to allocate to validation split\n",
        "\n",
        "    :return X_train (ndarray) : Input targeting set\n",
        "    :return X_validation (ndarray) : Input validation set\n",
        "    :return X_test (ndarray) : Input test set\n",
        "    :return y_train (ndarray) : Target training set\n",
        "    :return y_validation (ndarray) : Target validation set\n",
        "    :return y_test (ndarray) : Target test set\n",
        "\n",
        "  \"\"\"\n",
        "  # Dividing the data to 3 parts train , validation , test\n",
        "  X_train , X_test , y_train , y_test = train_test_split(X , y , test_size = test_size)\n",
        "  X_train , X_validation , y_train , y_validation = train_test_split(X_train , y_train , test_size = validation_size)\n",
        "\n",
        "  # adding new dimension to input data not targets\n",
        "  X_train = X_train[... , np.newaxis]\n",
        "  X_validation = X_validation[... , np.newaxis]\n",
        "  X_test = X_test[... , np.newaxis]\n",
        "\n",
        "  # Return\n",
        "  return X_train , X_validation , X_test , y_train , y_validation , y_test"
      ],
      "metadata": {
        "id": "z4UG2BC6chzP"
      },
      "execution_count": null,
      "outputs": []
    },
    {
      "cell_type": "markdown",
      "source": [
        "## 1 . Build CNN"
      ],
      "metadata": {
        "id": "ff3MWKCfchus"
      }
    },
    {
      "cell_type": "code",
      "source": [
        "def build_model(input_shape) :\n",
        "  \"\"\"\n",
        "    Generating CNN model\n",
        "\n",
        "    :param input_shape : input shape of dataset for  model\n",
        "\n",
        "    :return model : CNN model\n",
        "  \"\"\"\n",
        "\n",
        "  model = tf.keras.Sequential([\n",
        "      # Input layer\n",
        "      # tf.keras.layers.Input(shape = input_shape) ,\n",
        "\n",
        "      # 1st Convoloutional layer\n",
        "      tf.keras.layers.Conv2D(32 , (3,3) , activation = \"relu\" , input_shape = input_shape) ,\n",
        "      tf.keras.layers.MaxPooling2D((2,2) , strides = (1,1) , padding = \"same\") ,\n",
        "      tf.keras.layers.BatchNormalization() ,\n",
        "\n",
        "      # 2nd Convoloutional layer\n",
        "      tf.keras.layers.Conv2D(32 , (3,3) , activation = \"relu\") ,\n",
        "      tf.keras.layers.MaxPooling2D((2,2) , strides = (1,1) , padding = \"same\") ,\n",
        "      tf.keras.layers.MaxPooling2D() ,\n",
        "\n",
        "      # 3rd Convoloutional layer\n",
        "      tf.keras.layers.Conv2D(32 , (2,2) , activation = \"relu\") ,\n",
        "      tf.keras.layers.MaxPooling2D((2,2) , strides = (1,1) , padding = \"same\") ,\n",
        "      tf.keras.layers.MaxPooling2D() ,\n",
        "\n",
        "      # Flatten layer\n",
        "      tf.keras.layers.Flatten() ,\n",
        "\n",
        "      # 1st Dense layers\n",
        "      tf.keras.layers.Dense(64 , activation = \"relu\") ,\n",
        "\n",
        "      # Solving Overfitting\n",
        "      tf.keras.layers.Dropout(0.3) ,\n",
        "\n",
        "      # 2nd Dense layer\n",
        "      tf.keras.layers.Dense(10 , activation = \"softmax\")\n",
        "  ])\n",
        "\n",
        "  return model"
      ],
      "metadata": {
        "id": "r6DdGpoSgrED"
      },
      "execution_count": null,
      "outputs": []
    },
    {
      "cell_type": "markdown",
      "source": [
        "🔎 **Building a Predicting model**\n"
      ],
      "metadata": {
        "id": "7Aa85Gf-grDS"
      }
    },
    {
      "cell_type": "code",
      "source": [
        "def predict(model , X , y) :\n",
        "  \"\"\"\n",
        "    predicting on a sample\n",
        "\n",
        "    :param X : a sample music\n",
        "    :param y (int) : Traget (lables)\n",
        "    :param model : trained model for classification\n",
        "\n",
        "    :return prediction (int) : predicted lables\n",
        "  \"\"\"\n",
        "  # adding a  dimension to input data\n",
        "  # X = X[np.newaxis , ...]\n",
        "\n",
        "  # making prediction\n",
        "  prediction = model.predict(X)\n",
        "\n",
        "  # geting the index with the most value\n",
        "  prediction_index = np.argmax(prediction , axis = 1)\n",
        "\n",
        "  # printing out the results\n",
        "  print(f\"target : {y}  | Prediction : {prediction_index}\")\n",
        "\n",
        "  return prediction_index"
      ],
      "metadata": {
        "id": "IbJ5JM-YgrAP"
      },
      "execution_count": null,
      "outputs": []
    },
    {
      "cell_type": "markdown",
      "source": [
        "📖 **Food for  thought**\n",
        "\n",
        "Adding a new dimension to our matrices\n",
        "\n",
        "\n",
        "```\n",
        "# code snippet\n",
        "\n",
        "A = ['A' , 'B' , 'C']\n",
        "A = [np.newaxis , ...] # A would be  [['A' , 'B' , 'C']]\n",
        "\n",
        "B = ['A' , 'B' , 'C']\n",
        "B = [... , np.newaxis] # B would be [['A'] , ['B'] , ['C']]\n",
        "```\n",
        "\n"
      ],
      "metadata": {
        "id": "7Dv-u6oVjN_6"
      }
    },
    {
      "cell_type": "code",
      "source": [
        "# TODO : loading data\n",
        "# TODO : Creating Xsssss\n",
        "# TODO : finding input_shape\n",
        "# TODO : creating a model\n",
        "# TODO : Compile the model\n",
        "# TODO : train the model\n",
        "# TODO : plotting the history\n",
        "# TODO : evaluating model\n",
        "# TODO : picking a 10 samples from test and making prediction"
      ],
      "metadata": {
        "id": "5hyoy1kAgq_f"
      },
      "execution_count": null,
      "outputs": []
    },
    {
      "cell_type": "code",
      "source": [
        "if __name__ == \"__main__\" :\n",
        "  # Loading the whole of data\n",
        "  X , y = load_data(json_path = JSON_PATH)\n",
        "\n",
        "  # Extracting Xsssss\n",
        "  X_train , X_validation , X_test , y_train , y_validation , y_test = prepare_dataset(test_size = 0.25 , validation_size = 0.2)\n",
        "\n",
        "  # finding input shape\n",
        "  # input_shape = np.asarray([1] + list(X_train.shape[1:]))\n",
        "  input_shape = (X_train.shape[1], X_train.shape[2], 1)\n",
        "  # build model\n",
        "  model = build_model(input_shape = input_shape)\n",
        "\n",
        "  # compie model\n",
        "  model.compile(optimizer = tf.keras.optimizers.Adam(learning_rate = 0.001) ,\n",
        "                loss = 'sparse_categorical_crossentropy' ,\n",
        "                metrics = [\"Accuracy\"])\n",
        "\n",
        "  # train model\n",
        "  history = model.fit(x = X_train ,\n",
        "                      y = y_train ,\n",
        "                      epochs = 10 ,\n",
        "                      validation_data = (X_validation , y_validation) ,\n",
        "                      batch_size = 32)\n",
        "\n",
        "  # plotting model history : model accuracy and loss\n",
        "  plot_history(history)\n",
        "\n",
        "  # evaluating model\n",
        "  test_loss , test_acc = model.evaluate(X_test , y_test)\n",
        "  print(f\"evaluated  Results : \\n test_loss : {test_loss} | test_acc : {test_acc}\")\n",
        "\n",
        "  # picking samples and making prediction\n",
        "  X_sample = X_test[:10]\n",
        "  y_sample = y_test[:10]\n",
        "  prediction = predict(model = model ,\n",
        "                       X = X_sample ,\n",
        "                       y = y_sample)"
      ],
      "metadata": {
        "colab": {
          "base_uri": "https://localhost:8080/",
          "height": 739
        },
        "id": "cr3mn3efgq78",
        "outputId": "695891b8-9764-4486-d0a2-b3c68a7c31d2"
      },
      "execution_count": null,
      "outputs": [
        {
          "output_type": "stream",
          "name": "stdout",
          "text": [
            "Epoch 1/10\n"
          ]
        },
        {
          "output_type": "stream",
          "name": "stderr",
          "text": [
            "/usr/local/lib/python3.10/dist-packages/keras/src/layers/convolutional/base_conv.py:107: UserWarning: Do not pass an `input_shape`/`input_dim` argument to a layer. When using Sequential models, prefer using an `Input(shape)` object as the first layer in the model instead.\n",
            "  super().__init__(activity_regularizer=activity_regularizer, **kwargs)\n"
          ]
        },
        {
          "output_type": "stream",
          "name": "stdout",
          "text": [
            "\u001b[1m188/188\u001b[0m \u001b[32m━━━━━━━━━━━━━━━━━━━━\u001b[0m\u001b[37m\u001b[0m \u001b[1m45s\u001b[0m 227ms/step - Accuracy: 0.2741 - loss: 2.0413 - val_Accuracy: 0.4619 - val_loss: 1.5354\n",
            "Epoch 2/10\n",
            "\u001b[1m188/188\u001b[0m \u001b[32m━━━━━━━━━━━━━━━━━━━━\u001b[0m\u001b[37m\u001b[0m \u001b[1m43s\u001b[0m 229ms/step - Accuracy: 0.4153 - loss: 1.6093 - val_Accuracy: 0.5134 - val_loss: 1.3700\n",
            "Epoch 3/10\n",
            "\u001b[1m188/188\u001b[0m \u001b[32m━━━━━━━━━━━━━━━━━━━━\u001b[0m\u001b[37m\u001b[0m \u001b[1m81s\u001b[0m 222ms/step - Accuracy: 0.5188 - loss: 1.3620 - val_Accuracy: 0.5648 - val_loss: 1.1928\n",
            "Epoch 4/10\n",
            "\u001b[1m188/188\u001b[0m \u001b[32m━━━━━━━━━━━━━━━━━━━━\u001b[0m\u001b[37m\u001b[0m \u001b[1m49s\u001b[0m 260ms/step - Accuracy: 0.5500 - loss: 1.2623 - val_Accuracy: 0.6028 - val_loss: 1.1423\n",
            "Epoch 5/10\n",
            "\u001b[1m188/188\u001b[0m \u001b[32m━━━━━━━━━━━━━━━━━━━━\u001b[0m\u001b[37m\u001b[0m \u001b[1m42s\u001b[0m 226ms/step - Accuracy: 0.5895 - loss: 1.1407 - val_Accuracy: 0.6101 - val_loss: 1.0705\n",
            "Epoch 6/10\n",
            "\u001b[1m188/188\u001b[0m \u001b[32m━━━━━━━━━━━━━━━━━━━━\u001b[0m\u001b[37m\u001b[0m \u001b[1m81s\u001b[0m 221ms/step - Accuracy: 0.6143 - loss: 1.1000 - val_Accuracy: 0.6322 - val_loss: 1.0796\n",
            "Epoch 7/10\n",
            "\u001b[1m188/188\u001b[0m \u001b[32m━━━━━━━━━━━━━━━━━━━━\u001b[0m\u001b[37m\u001b[0m \u001b[1m83s\u001b[0m 226ms/step - Accuracy: 0.6365 - loss: 1.0074 - val_Accuracy: 0.6615 - val_loss: 0.9992\n",
            "Epoch 8/10\n",
            "\u001b[1m188/188\u001b[0m \u001b[32m━━━━━━━━━━━━━━━━━━━━\u001b[0m\u001b[37m\u001b[0m \u001b[1m42s\u001b[0m 222ms/step - Accuracy: 0.6711 - loss: 0.9500 - val_Accuracy: 0.6689 - val_loss: 0.9507\n",
            "Epoch 9/10\n",
            "\u001b[1m188/188\u001b[0m \u001b[32m━━━━━━━━━━━━━━━━━━━━\u001b[0m\u001b[37m\u001b[0m \u001b[1m83s\u001b[0m 227ms/step - Accuracy: 0.6780 - loss: 0.9147 - val_Accuracy: 0.6736 - val_loss: 0.9181\n",
            "Epoch 10/10\n",
            "\u001b[1m188/188\u001b[0m \u001b[32m━━━━━━━━━━━━━━━━━━━━\u001b[0m\u001b[37m\u001b[0m \u001b[1m80s\u001b[0m 220ms/step - Accuracy: 0.6971 - loss: 0.8643 - val_Accuracy: 0.6903 - val_loss: 0.9389\n",
            "\u001b[1m79/79\u001b[0m \u001b[32m━━━━━━━━━━━━━━━━━━━━\u001b[0m\u001b[37m\u001b[0m \u001b[1m3s\u001b[0m 41ms/step - Accuracy: 0.6578 - loss: 1.0351\n",
            "evaluated  Results : \n",
            " test_loss : 1.0078279972076416 | test_acc : 0.6672006249427795\n",
            "\u001b[1m1/1\u001b[0m \u001b[32m━━━━━━━━━━━━━━━━━━━━\u001b[0m\u001b[37m\u001b[0m \u001b[1m0s\u001b[0m 127ms/step\n",
            "target : [1 9 6 4 1 5 7 9 7 7]  | Prediction : [5 9 6 4 6 5 6 7 7 9]\n"
          ]
        },
        {
          "output_type": "display_data",
          "data": {
            "text/plain": [
              "<Figure size 640x480 with 2 Axes>"
            ],
            "image/png": "[encoded data removed]"
          },
          "metadata": {}
        }
      ]
    },
    {
      "cell_type": "markdown",
      "source": [
        "**Save model**"
      ],
      "metadata": {
        "id": "MUmarAb66p-7"
      }
    },
    {
      "cell_type": "code",
      "source": [
        "# save a model\n",
        "model.save(\"/content/model_1.h5\")"
      ],
      "metadata": {
        "colab": {
          "base_uri": "https://localhost:8080/"
        },
        "id": "ADpduFaF4x3H",
        "outputId": "67de88c2-3195-4e1b-d8cc-13a8e3f7a1f8"
      },
      "execution_count": null,
      "outputs": [
        {
          "output_type": "stream",
          "name": "stderr",
          "text": [
            "WARNING:absl:You are saving your model as an HDF5 file via `model.save()` or `keras.saving.save_model(model)`. This file format is considered legacy. We recommend using instead the native Keras format, e.g. `model.save('my_model.keras')` or `keras.saving.save_model(model, 'my_model.keras')`. \n"
          ]
        }
      ]
    },
    {
      "cell_type": "code",
      "source": [
        "# put saved model on the mounted google drive\n",
        "%cp '/content/model_1.h5' '/content/drive/My Drive/model_1.h5'"
      ],
      "metadata": {
        "id": "SeLBAUp44xz0"
      },
      "execution_count": null,
      "outputs": []
    },
    {
      "cell_type": "markdown",
      "source": [
        "📑 **Saving and loading model**\n",
        "\n",
        "```\n",
        "## code snippet\n",
        "\n",
        "# save model\n",
        "model.save(\"model_1.h5\")\n",
        "\n",
        "# load model\n",
        "loaded_model = tf.keras.models.load_model(\"model_1.h5\")\n",
        "\n",
        "```"
      ],
      "metadata": {
        "id": "MIZTNBr5tZkQ"
      }
    }
  ]
}